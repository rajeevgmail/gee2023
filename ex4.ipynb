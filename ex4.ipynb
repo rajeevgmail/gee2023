{
 "cells": [
  {
   "cell_type": "code",
   "execution_count": 6,
   "id": "8665817c-27e5-4b8f-a8a8-e0769166f470",
   "metadata": {},
   "outputs": [],
   "source": [
    "import ee\n",
    "import geemap"
   ]
  },
  {
   "cell_type": "code",
   "execution_count": 19,
   "id": "a645b0aa-553e-4e51-a4e3-6462e4706456",
   "metadata": {},
   "outputs": [],
   "source": [
    "\n",
    "\n",
    "# Add Earth Engine dataset\n",
    "image = ee.Image('USGS/SRTMGL1_003')\n",
    "\n",
    "# Set visualization parameters.\n",
    "vis_params = {\n",
    "    'min': 0,\n",
    "    'max': 4000,\n",
    "    'palette': ['006633', 'E5FFCC', '662A00', 'D8D8D8', 'F5F5F5'],\n",
    "}\n",
    "\n",
    "# Add Earth Engine DEM to map\n",
    "Map.addLayer(image, vis_params, 'SRTM DEM')\n",
    "\n",
    "states = ee.FeatureCollection(\"TIGER/2018/States\")\n",
    "Map.addLayer(states, {}, 'US States')\n",
    "     "
   ]
  },
  {
   "cell_type": "code",
   "execution_count": 22,
   "id": "01b6b38f-11cf-4e98-b7a2-31ef2128ec22",
   "metadata": {},
   "outputs": [
    {
     "data": {
      "application/vnd.jupyter.widget-view+json": {
       "model_id": "6dfcab4235aa4e59a9b7ace167db4e2e",
       "version_major": 2,
       "version_minor": 0
      },
      "text/plain": [
       "Map(bottom=439.0, center=[63.23362741232569, -100.54687500000001], controls=(WidgetControl(options=['position'…"
      ]
     },
     "metadata": {},
     "output_type": "display_data"
    }
   ],
   "source": [
    "Map.draw_features\n",
    "Map"
   ]
  },
  {
   "cell_type": "code",
   "execution_count": 24,
   "id": "e3302307-3321-4590-82a8-3a0eec6c61da",
   "metadata": {},
   "outputs": [],
   "source": [
    "\n",
    "\n",
    "roi = ee.FeatureCollection(Map.draw_features)\n",
    "selected_states = states.filterBounds(roi)\n",
    "Map.addLayer(selected_states, {}, \"Selected states\")"
   ]
  },
  {
   "cell_type": "code",
   "execution_count": 26,
   "id": "0b9303bf-bff5-403a-b4c1-3793517afdea",
   "metadata": {},
   "outputs": [],
   "source": [
    "clipped_image = image.clip(selected_states)\n",
    "Map.addLayer(clipped_image, vis_params, 'Clipped image')"
   ]
  },
  {
   "cell_type": "code",
   "execution_count": 27,
   "id": "44ab9393-8105-46cd-9d59-dc04a96eb8cc",
   "metadata": {},
   "outputs": [
    {
     "data": {
      "application/vnd.jupyter.widget-view+json": {
       "model_id": "6dfcab4235aa4e59a9b7ace167db4e2e",
       "version_major": 2,
       "version_minor": 0
      },
      "text/plain": [
       "Map(bottom=1028.0, center=[46.07323062540835, 301.46484375], controls=(WidgetControl(options=['position', 'tra…"
      ]
     },
     "metadata": {},
     "output_type": "display_data"
    }
   ],
   "source": [
    "Map"
   ]
  },
  {
   "cell_type": "code",
   "execution_count": null,
   "id": "4c7bdab1-f474-4e3c-81de-165694885fc0",
   "metadata": {},
   "outputs": [],
   "source": []
  },
  {
   "cell_type": "code",
   "execution_count": null,
   "id": "d9102bba-3323-4da1-9664-0f6cfc6c27ce",
   "metadata": {},
   "outputs": [],
   "source": []
  }
 ],
 "metadata": {
  "kernelspec": {
   "display_name": "Python 3 (ipykernel)",
   "language": "python",
   "name": "python3"
  },
  "language_info": {
   "codemirror_mode": {
    "name": "ipython",
    "version": 3
   },
   "file_extension": ".py",
   "mimetype": "text/x-python",
   "name": "python",
   "nbconvert_exporter": "python",
   "pygments_lexer": "ipython3",
   "version": "3.9.16"
  }
 },
 "nbformat": 4,
 "nbformat_minor": 5
}
